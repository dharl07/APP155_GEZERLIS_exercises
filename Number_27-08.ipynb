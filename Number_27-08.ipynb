{
 "cells": [
  {
   "cell_type": "markdown",
   "id": "b08225a2",
   "metadata": {},
   "source": [
    "# <center> NUMBERS </center>\n",
    "##### AUG 27, 2025\n"
   ]
  },
  {
   "cell_type": "code",
   "execution_count": null,
   "id": "3c310b6a",
   "metadata": {},
   "outputs": [
    {
     "name": "stdout",
     "output_type": "stream",
     "text": [
      "0.30000000000000004\n",
      "10.299999999999999\n",
      "0.2998\n",
      "0.3000000000000000166533453694\n",
      "0.3\n"
     ]
    }
   ],
   "source": [
    "# introduction\n",
    "\n",
    "import matplotlib.pyplot as plt\n",
    "import numpy as np\n",
    "\n",
    "from decimal import Decimal\n",
    "from fractions import Fraction\n",
    "\n",
    "# Classic floating point quirks example\n",
    "print(0.1 + 0.2)\n",
    "\n",
    "# How about increasing precision?\n",
    "print(np.longdouble(10.1) + np.longdouble(0.2))\n",
    "\n",
    "# How bad is decreasing precision?\n",
    "print(np.float16(0.1) + np.float16(0.2))\n",
    "\n",
    "# Decimal type: \n",
    "print(Decimal(0.1) + Decimal(0.2))\n",
    "\n",
    "print(float(Fraction(1, 10) + Fraction(1, 5)))"
   ]
  },
  {
   "cell_type": "code",
   "execution_count": 19,
   "id": "3171899f",
   "metadata": {},
   "outputs": [
    {
     "name": "stdout",
     "output_type": "stream",
     "text": [
      "10.299999999999999\n"
     ]
    }
   ],
   "source": [
    "# How about increasing precision?\n",
    "print(np.float64(10.1) + np.float64(0.2))"
   ]
  },
  {
   "cell_type": "markdown",
   "id": "19311d71",
   "metadata": {},
   "source": [
    "# Problem 2.6 "
   ]
  },
  {
   "cell_type": "code",
   "execution_count": 31,
   "id": "13eb0b5d",
   "metadata": {},
   "outputs": [
    {
     "name": "stdout",
     "output_type": "stream",
     "text": [
      "x_plus = -7.450580596923828e-09\n",
      "x_minus = -100000000.0\n"
     ]
    }
   ],
   "source": [
    "# Plain Substitution\n",
    "\n",
    "# variables\n",
    "a = 1\n",
    "c = 1\n",
    "b = 10**8\n",
    "\n",
    "# quadratic formula\n",
    "\n",
    "x_plus = ((-b + np.sqrt(b**2 - 4*a*c))/2*a)\n",
    "\n",
    "x_minus = ((-b - np.sqrt(b**2 - 4*a*c))/2*a)\n",
    "\n",
    "# print\n",
    "\n",
    "print(\"x_plus =\", x_plus)\n",
    "print(\"x_minus =\", x_minus)"
   ]
  },
  {
   "cell_type": "code",
   "execution_count": 32,
   "id": "98c6b6c8",
   "metadata": {},
   "outputs": [
    {
     "name": "stdout",
     "output_type": "stream",
     "text": [
      "-7.450580596923828e-09 -1e-08\n"
     ]
    }
   ],
   "source": [
    "x_plus*x_minus\n",
    "x_plus_alt = c/(a*x_minus)\n",
    "print(x_plus, x_plus_alt)"
   ]
  },
  {
   "cell_type": "code",
   "execution_count": 39,
   "id": "f62d0374",
   "metadata": {},
   "outputs": [
    {
     "name": "stdout",
     "output_type": "stream",
     "text": [
      "b = 10.0 i = 1 x_plus = -0.10102051443364424\n",
      "b = 10.0 i = 1 -9.898979485566356\n",
      "b = 10.0 i = 1 -0.10102051443364381\n",
      "b = 100.0 i = 2 x_plus = -0.010001000200048793\n",
      "b = 100.0 i = 2 -99.98999899979995\n",
      "b = 100.0 i = 2 -0.010001000200050014\n",
      "b = 1000.0 i = 3 x_plus = -0.0010000010000226212\n",
      "b = 1000.0 i = 3 -999.998999999\n",
      "b = 1000.0 i = 3 -0.001000001000002\n",
      "b = 10000.0 i = 4 x_plus = -0.00010000000111176632\n",
      "b = 10000.0 i = 4 -9999.999899999999\n",
      "b = 10000.0 i = 4 -0.00010000000100000001\n",
      "b = 100000.0 i = 5 x_plus = -1.0000003385357559e-05\n",
      "b = 100000.0 i = 5 -99999.99999\n",
      "b = 100000.0 i = 5 -1.0000000001000001e-05\n",
      "b = 1000000.0 i = 6 x_plus = -1.00000761449337e-06\n",
      "b = 1000000.0 i = 6 -999999.999999\n",
      "b = 1000000.0 i = 6 -1.000000000001e-06\n",
      "b = 10000000.0 i = 7 x_plus = -9.96515154838562e-08\n",
      "b = 10000000.0 i = 7 -9999999.9999999\n",
      "b = 10000000.0 i = 7 -1.00000000000001e-07\n",
      "b = 100000000.0 i = 8 x_plus = -7.450580596923828e-09\n",
      "b = 100000000.0 i = 8 -100000000.0\n",
      "b = 100000000.0 i = 8 -1e-08\n",
      "b = 1000000000.0 i = 9 x_plus = 0.0\n",
      "b = 1000000000.0 i = 9 -1000000000.0\n",
      "b = 1000000000.0 i = 9 -1e-09\n",
      "b = 10000000000.0 i = 10 x_plus = 0.0\n",
      "b = 10000000000.0 i = 10 -10000000000.0\n",
      "b = 10000000000.0 i = 10 -1e-10\n"
     ]
    }
   ],
   "source": [
    "# for loop\n",
    "\n",
    "# variables\n",
    "a = 1\n",
    "c = 1\n",
    "\n",
    "for i in range(1,11):\n",
    "  b = np.float64(10**i)\n",
    "  x_plus = ((-b + np.sqrt(b**2 - 4*a*c))/2*a)\n",
    "  x_minus = ((-b - np.sqrt(b**2 - 4*a*c))/2*a)\n",
    "  print(\"b =\", b, \"i =\", i, \"x_plus =\", x_plus)\n",
    "  print(\"b =\", b, \"i =\", i, x_minus)\n",
    "  \n",
    "  x_plus*x_minus\n",
    "  x_plus_alt = c/(a*x_minus)\n",
    "  print(\"b =\", b, \"i =\", i, x_plus_alt)"
   ]
  },
  {
   "cell_type": "code",
   "execution_count": null,
   "id": "70e7cabc",
   "metadata": {},
   "outputs": [
    {
     "name": "stdout",
     "output_type": "stream",
     "text": [
      "x_plus = -7.450580596923828e-09\n",
      "x_minus = -100000000.0\n"
     ]
    }
   ],
   "source": [
    "# Using the Good formula to compute for x_plus\n",
    "\n",
    "\n"
   ]
  },
  {
   "cell_type": "markdown",
   "id": "319fef5c",
   "metadata": {},
   "source": [
    "# Problem 2.8"
   ]
  },
  {
   "cell_type": "code",
   "execution_count": 51,
   "id": "6efbefe5",
   "metadata": {},
   "outputs": [
    {
     "name": "stderr",
     "output_type": "stream",
     "text": [
      "C:\\Users\\Dharlene Rosete\\AppData\\Local\\Temp\\ipykernel_1820\\3391457884.py:8: RuntimeWarning: invalid value encountered in divide\n",
      "  y = (1 - np.cos(t))/t**2\n"
     ]
    },
    {
     "data": {
      "text/plain": [
       "[<matplotlib.lines.Line2D at 0x1ca04c7af60>]"
      ]
     },
     "execution_count": 51,
     "metadata": {},
     "output_type": "execute_result"
    },
    {
     "data": {
      "image/png": "[encoded data removed]",
      "text/plain": [
       "<Figure size 640x480 with 1 Axes>"
      ]
     },
     "metadata": {},
     "output_type": "display_data"
    }
   ],
   "source": [
    "fig, ax = plt.subplots()\n",
    "\n",
    "# for loop\n",
    "\n",
    "for i in range(1,101):\n",
    "    x = np.float64(0.1)*i\n",
    "    t = np.linspace(0, x, 500)\n",
    "    y = (1 - np.cos(t))/t**2\n",
    "\n",
    "ax.plot(t, y)\n"
   ]
  },
  {
   "cell_type": "markdown",
   "id": "bb7c94c6",
   "metadata": {},
   "source": [
    "##### Verifying by taking the limit and L'Hopital's rule: \n",
    "\n",
    "<center> $1 - \\cos{x}/ x**2$ </center> \n",
    "<center> $d/dx= -\\sin(x)/2x$ </center> \n",
    "<center> $d**2/dx**2= \\cos(x)/2$ </center> \n",
    "<center> $= $$\\cos(x)$$ /2$ </center> \n",
    "\n",
    "Taking the limit as $x$ to $0$, leads to $1/2$ which is verified by the plot above"
   ]
  },
  {
   "cell_type": "code",
   "execution_count": 55,
   "id": "9cbf2cc8",
   "metadata": {},
   "outputs": [
    {
     "name": "stdout",
     "output_type": "stream",
     "text": [
      "0.7709882115452477\n"
     ]
    }
   ],
   "source": [
    "# Value for f(x) when x = 1.2*10e(-8)\n",
    "\n",
    "x = np.float64(1.2*(10**(-8)))\n",
    "y = (1 - np.cos(x))/x**2\n",
    "\n",
    "print(y)"
   ]
  },
  {
   "cell_type": "code",
   "execution_count": 73,
   "id": "0f3c2dda",
   "metadata": {},
   "outputs": [
    {
     "name": "stderr",
     "output_type": "stream",
     "text": [
      "C:\\Users\\Dharlene Rosete\\AppData\\Local\\Temp\\ipykernel_1820\\1284733036.py:7: RuntimeWarning: invalid value encountered in divide\n",
      "  y = ((1 - np.cos(x))/x**2)\n"
     ]
    },
    {
     "data": {
      "text/plain": [
       "[<matplotlib.lines.Line2D at 0x1ca0b2717f0>]"
      ]
     },
     "execution_count": 73,
     "metadata": {},
     "output_type": "execute_result"
    },
    {
     "data": {
      "image/png": "[encoded data removed]",
      "text/plain": [
       "<Figure size 640x480 with 1 Axes>"
      ]
     },
     "metadata": {},
     "output_type": "display_data"
    }
   ],
   "source": [
    "# plotting\n",
    "\n",
    "fig, ax = plt.subplots()\n",
    "\n",
    "\n",
    "x = np.linspace(0, np.float64(1.2*(10**(-8))), 500)\n",
    "y = ((1 - np.cos(x))/x**2)\n",
    "\n",
    "\n",
    "ax.plot(x, y)\n"
   ]
  },
  {
   "cell_type": "code",
   "execution_count": 70,
   "id": "473b60ab",
   "metadata": {},
   "outputs": [
    {
     "name": "stdout",
     "output_type": "stream",
     "text": [
      "[nan 0.5 0.5 0.5 0.5 0.5 0.5 0.5 0.5 0.5 0.5 0.5 0.5 0.5 0.5 0.5 0.5 0.5\n",
      " 0.5 0.5 0.5 0.5 0.5 0.5 0.5 0.5 0.5 0.5 0.5 0.5 0.5 0.5 0.5 0.5 0.5 0.5\n",
      " 0.5 0.5 0.5 0.5 0.5 0.5 0.5 0.5 0.5 0.5 0.5 0.5 0.5 0.5 0.5 0.5 0.5 0.5\n",
      " 0.5 0.5 0.5 0.5 0.5 0.5 0.5 0.5 0.5 0.5 0.5 0.5 0.5 0.5 0.5 0.5 0.5 0.5\n",
      " 0.5 0.5 0.5 0.5 0.5 0.5 0.5 0.5 0.5 0.5 0.5 0.5 0.5 0.5 0.5 0.5 0.5 0.5\n",
      " 0.5 0.5 0.5 0.5 0.5 0.5 0.5 0.5 0.5 0.5 0.5 0.5 0.5 0.5 0.5 0.5 0.5 0.5\n",
      " 0.5 0.5 0.5 0.5 0.5 0.5 0.5 0.5 0.5 0.5 0.5 0.5 0.5 0.5 0.5 0.5 0.5 0.5\n",
      " 0.5 0.5 0.5 0.5 0.5 0.5 0.5 0.5 0.5 0.5 0.5 0.5 0.5 0.5 0.5 0.5 0.5 0.5\n",
      " 0.5 0.5 0.5 0.5 0.5 0.5 0.5 0.5 0.5 0.5 0.5 0.5 0.5 0.5 0.5 0.5 0.5 0.5\n",
      " 0.5 0.5 0.5 0.5 0.5 0.5 0.5 0.5 0.5 0.5 0.5 0.5 0.5 0.5 0.5 0.5 0.5 0.5\n",
      " 0.5 0.5 0.5 0.5 0.5 0.5 0.5 0.5 0.5 0.5 0.5 0.5 0.5 0.5 0.5 0.5 0.5 0.5\n",
      " 0.5 0.5 0.5 0.5 0.5 0.5 0.5 0.5 0.5 0.5 0.5 0.5 0.5 0.5 0.5 0.5 0.5 0.5\n",
      " 0.5 0.5 0.5 0.5 0.5 0.5 0.5 0.5 0.5 0.5 0.5 0.5 0.5 0.5 0.5 0.5 0.5 0.5\n",
      " 0.5 0.5 0.5 0.5 0.5 0.5 0.5 0.5 0.5 0.5 0.5 0.5 0.5 0.5 0.5 0.5 0.5 0.5\n",
      " 0.5 0.5 0.5 0.5 0.5 0.5 0.5 0.5 0.5 0.5 0.5 0.5 0.5 0.5 0.5 0.5 0.5 0.5\n",
      " 0.5 0.5 0.5 0.5 0.5 0.5 0.5 0.5 0.5 0.5 0.5 0.5 0.5 0.5 0.5 0.5 0.5 0.5\n",
      " 0.5 0.5 0.5 0.5 0.5 0.5 0.5 0.5 0.5 0.5 0.5 0.5 0.5 0.5 0.5 0.5 0.5 0.5\n",
      " 0.5 0.5 0.5 0.5 0.5 0.5 0.5 0.5 0.5 0.5 0.5 0.5 0.5 0.5 0.5 0.5 0.5 0.5\n",
      " 0.5 0.5 0.5 0.5 0.5 0.5 0.5 0.5 0.5 0.5 0.5 0.5 0.5 0.5 0.5 0.5 0.5 0.5\n",
      " 0.5 0.5 0.5 0.5 0.5 0.5 0.5 0.5 0.5 0.5 0.5 0.5 0.5 0.5 0.5 0.5 0.5 0.5\n",
      " 0.5 0.5 0.5 0.5 0.5 0.5 0.5 0.5 0.5 0.5 0.5 0.5 0.5 0.5 0.5 0.5 0.5 0.5\n",
      " 0.5 0.5 0.5 0.5 0.5 0.5 0.5 0.5 0.5 0.5 0.5 0.5 0.5 0.5 0.5 0.5 0.5 0.5\n",
      " 0.5 0.5 0.5 0.5 0.5 0.5 0.5 0.5 0.5 0.5 0.5 0.5 0.5 0.5 0.5 0.5 0.5 0.5\n",
      " 0.5 0.5 0.5 0.5 0.5 0.5 0.5 0.5 0.5 0.5 0.5 0.5 0.5 0.5 0.5 0.5 0.5 0.5\n",
      " 0.5 0.5 0.5 0.5 0.5 0.5 0.5 0.5 0.5 0.5 0.5 0.5 0.5 0.5 0.5 0.5 0.5 0.5\n",
      " 0.5 0.5 0.5 0.5 0.5 0.5 0.5 0.5 0.5 0.5 0.5 0.5 0.5 0.5 0.5 0.5 0.5 0.5\n",
      " 0.5 0.5 0.5 0.5 0.5 0.5 0.5 0.5 0.5 0.5 0.5 0.5 0.5 0.5 0.5 0.5 0.5 0.5\n",
      " 0.5 0.5 0.5 0.5 0.5 0.5 0.5 0.5 0.5 0.5 0.5 0.5 0.5 0.5]\n"
     ]
    },
    {
     "name": "stderr",
     "output_type": "stream",
     "text": [
      "C:\\Users\\Dharlene Rosete\\AppData\\Local\\Temp\\ipykernel_1820\\3053416508.py:5: RuntimeWarning: invalid value encountered in divide\n",
      "  y = 1/2*(np.sin(x/2)/(x/2))**2\n"
     ]
    },
    {
     "data": {
      "text/plain": [
       "[<matplotlib.lines.Line2D at 0x1ca0b1a6b40>]"
      ]
     },
     "execution_count": 70,
     "metadata": {},
     "output_type": "execute_result"
    },
    {
     "data": {
      "image/png": "[encoded data removed]",
      "text/plain": [
       "<Figure size 640x480 with 1 Axes>"
      ]
     },
     "metadata": {},
     "output_type": "display_data"
    }
   ],
   "source": [
    "# Using trigonometric identity\n",
    "fig, ax = plt.subplots()\n",
    "\n",
    "x = np.linspace(0, np.float64(1.2*(10**(-8))), 500)\n",
    "y = 1/2*(np.sin(x/2)/(x/2))**2\n",
    "\n",
    "print(y)\n",
    "\n",
    "ax.plot(x, y)\n"
   ]
  },
  {
   "cell_type": "code",
   "execution_count": null,
   "id": "d183e955",
   "metadata": {},
   "outputs": [],
   "source": []
  }
 ],
 "metadata": {
  "kernelspec": {
   "display_name": "cwq",
   "language": "python",
   "name": "python3"
  },
  "language_info": {
   "codemirror_mode": {
    "name": "ipython",
    "version": 3
   },
   "file_extension": ".py",
   "mimetype": "text/x-python",
   "name": "python",
   "nbconvert_exporter": "python",
   "pygments_lexer": "ipython3",
   "version": "3.12.8"
  }
 },
 "nbformat": 4,
 "nbformat_minor": 5
}
